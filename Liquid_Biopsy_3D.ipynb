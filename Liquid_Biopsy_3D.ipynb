{
 "cells": [
  {
   "cell_type": "code",
   "execution_count": null,
   "id": "eb7e66fc",
   "metadata": {},
   "outputs": [],
   "source": [
    "\n",
    "import numpy as np\n",
    "import plotly.graph_objs as go\n",
    "from ipywidgets import interact, FloatSlider\n",
    "\n",
    "def calculate_ppv(sensitivity, specificity, prevalence):\n",
    "    # PPV formula\n",
    "    tp = sensitivity * prevalence\n",
    "    fp = (1 - specificity) * (1 - prevalence)\n",
    "    return tp / (tp + fp) if (tp + fp) != 0 else 0\n",
    "\n",
    "def generate_3d_surface(prevalence):\n",
    "    sensitivities = np.linspace(0.5, 1.0, 50)\n",
    "    specificities = np.linspace(0.5, 1.0, 50)\n",
    "    SENS, SPEC = np.meshgrid(sensitivities, specificities)\n",
    "\n",
    "    PPV = np.vectorize(calculate_ppv)(SENS, SPEC, prevalence)\n",
    "\n",
    "    fig = go.Figure(data=[go.Surface(\n",
    "        z=PPV, x=SENS, y=SPEC, colorscale='Viridis')])\n",
    "    fig.update_layout(\n",
    "        title=f'PPV Surface (Prevalence = {prevalence:.2f})',\n",
    "        scene=dict(\n",
    "            xaxis_title='Sensitivity',\n",
    "            yaxis_title='Specificity',\n",
    "            zaxis_title='PPV'\n",
    "        ),\n",
    "        margin=dict(l=0, r=0, b=0, t=30)\n",
    "    )\n",
    "    fig.show()\n",
    "\n",
    "interact(generate_3d_surface, prevalence=FloatSlider(min=0.001, max=0.1, step=0.001, value=0.01, description='Prevalence'));\n"
   ]
  }
 ],
 "metadata": {},
 "nbformat": 4,
 "nbformat_minor": 5
}
