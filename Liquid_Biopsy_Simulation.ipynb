{
 "cells": [
  {
   "cell_type": "code",
   "execution_count": null,
   "id": "58d6ffc6",
   "metadata": {},
   "outputs": [],
   "source": [
    "\n",
    "import numpy as np\n",
    "import matplotlib.pyplot as plt\n",
    "from ipywidgets import interact, FloatSlider\n",
    "\n",
    "def simulate_diagnostics(sensitivity, specificity, prevalence):\n",
    "    population = 10000\n",
    "\n",
    "    true_positives = sensitivity * prevalence * population\n",
    "    false_negatives = (1 - sensitivity) * prevalence * population\n",
    "    true_negatives = specificity * (1 - prevalence) * population\n",
    "    false_positives = (1 - specificity) * (1 - prevalence) * population\n",
    "\n",
    "    ppv = true_positives / (true_positives + false_positives) if (true_positives + false_positives) > 0 else 0\n",
    "    npv = true_negatives / (true_negatives + false_negatives) if (true_negatives + false_negatives) > 0 else 0\n",
    "\n",
    "    labels = ['True Positives', 'False Positives', 'True Negatives', 'False Negatives']\n",
    "    values = [true_positives, false_positives, true_negatives, false_negatives]\n",
    "\n",
    "    plt.figure(figsize=(10, 6))\n",
    "    plt.bar(labels, values, color=['green', 'red', 'blue', 'orange'])\n",
    "    plt.title(f\"PPV: {ppv:.2%}, NPV: {npv:.2%}\")\n",
    "    plt.ylabel(\"Individuals\")\n",
    "    plt.show()\n",
    "\n",
    "interact(\n",
    "    simulate_diagnostics,\n",
    "    sensitivity=FloatSlider(min=0.5, max=1.0, step=0.01, value=0.9, description='Sensitivity'),\n",
    "    specificity=FloatSlider(min=0.5, max=1.0, step=0.01, value=0.95, description='Specificity'),\n",
    "    prevalence=FloatSlider(min=0.001, max=0.1, step=0.001, value=0.01, description='Prevalence')\n",
    ");\n"
   ]
  }
 ],
 "metadata": {},
 "nbformat": 4,
 "nbformat_minor": 5
}
